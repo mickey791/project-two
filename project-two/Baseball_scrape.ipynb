{
 "cells": [
  {
   "cell_type": "code",
   "execution_count": 299,
   "metadata": {},
   "outputs": [],
   "source": [
    "from bs4 import BeautifulSoup\n",
    "from splinter import Browser\n",
    "from webdriver_manager.chrome import ChromeDriverManager\n",
    "import pandas as pd"
   ]
  },
  {
   "cell_type": "code",
   "execution_count": 312,
   "metadata": {},
   "outputs": [
    {
     "name": "stdout",
     "output_type": "stream",
     "text": [
      "\n"
     ]
    },
    {
     "name": "stderr",
     "output_type": "stream",
     "text": [
      "[WDM] - ====== WebDriver manager ======\n",
      "INFO:WDM:====== WebDriver manager ======\n",
      "[WDM] - Current google-chrome version is 103.0.5060\n",
      "INFO:WDM:Current google-chrome version is 103.0.5060\n",
      "[WDM] - Get LATEST chromedriver version for 103.0.5060 google-chrome\n",
      "INFO:WDM:Get LATEST chromedriver version for 103.0.5060 google-chrome\n",
      "[WDM] - Driver [/Users/ap20/.wdm/drivers/chromedriver/mac64/103.0.5060.53/chromedriver] found in cache\n",
      "INFO:WDM:Driver [/Users/ap20/.wdm/drivers/chromedriver/mac64/103.0.5060.53/chromedriver] found in cache\n"
     ]
    }
   ],
   "source": [
    "# Splinter\n",
    "executable_path = {'executable_path': ChromeDriverManager().install()}\n",
    "browser = Browser('chrome', **executable_path, headless=False)"
   ]
  },
  {
   "cell_type": "code",
   "execution_count": 313,
   "metadata": {},
   "outputs": [],
   "source": [
    "# Batting Stats\n",
    "#\n",
    "#"
   ]
  },
  {
   "cell_type": "code",
   "execution_count": 317,
   "metadata": {},
   "outputs": [],
   "source": [
    "# Batting stats URLs\n",
    "batting_url_list = ['https://www.espn.com/mlb/stats/player/_/view/batting/season/2021/seasontype/2/table/batting/sort/homeRuns/dir/desc',\n",
    "                    'https://www.espn.com/mlb/stats/player/_/view/batting/season/2020/seasontype/2/table/batting/sort/homeRuns/dir/desc',\n",
    "                    'https://www.espn.com/mlb/stats/player/_/view/batting/season/2019/seasontype/2/table/batting/sort/homeRuns/dir/desc']"
   ]
  },
  {
   "cell_type": "code",
   "execution_count": 315,
   "metadata": {},
   "outputs": [],
   "source": [
    "# Splinter scrape for Abbreviation\n",
    "\n",
    "def abbreviation(url):\n",
    "  browser.visit(url)\n",
    "  \n",
    "  abrs = []\n",
    "\n",
    "  for i in range(1,51):    \n",
    "        \n",
    "    abr = browser.find_by_xpath('//*[@id=\"fittPageContainer\"]/div[3]/div/div/section/div/div[4]/div[1]/div/table/tbody/tr[' + str(i) + ']/td[2]/div/span').text\n",
    "\n",
    "    abrs.append(abr)\n",
    "    \n",
    "  return abrs\n"
   ]
  },
  {
   "cell_type": "code",
   "execution_count": 56,
   "metadata": {},
   "outputs": [],
   "source": [
    "# BeautifulSoup scrape for Abbreviation\n",
    "\n",
    "#def abbreviation(url):\n",
    "\n",
    "#        html = browser.html\n",
    "#        soup = BeautifulSoup(html, 'html.parser')\n",
    "    \n",
    "#        results = soup.find_all('tr', class_ = 'Table__TR Table__TR--sm Table__even')\n",
    "\n",
    "#        abrs = []\n",
    "\n",
    "#        for query in results:\n",
    "#            try:        \n",
    "#                abr = query.span.text    \n",
    "#                abrs.append(abr)\n",
    "        \n",
    "#            except AttributeError as e:\n",
    "#                print(e)"
   ]
  },
  {
   "cell_type": "code",
   "execution_count": 318,
   "metadata": {},
   "outputs": [],
   "source": [
    "# Abbreviation column variables\n",
    "abr_2021 = abbreviation(batting_url_list[0])\n",
    "abr_2020 = abbreviation(batting_url_list[1])\n",
    "abr_2019 = abbreviation(batting_url_list[2])"
   ]
  },
  {
   "cell_type": "code",
   "execution_count": 319,
   "metadata": {},
   "outputs": [],
   "source": [
    "# Splinter scrape for Name\n",
    "\n",
    "def name(url):\n",
    "  browser.visit(url)\n",
    "  \n",
    "  full_name = []\n",
    "\n",
    "  for i in range(1,51):    \n",
    "        \n",
    "    name = browser.find_by_xpath('//*[@id=\"fittPageContainer\"]/div[3]/div/div/section/div/div[4]/div[1]/div/table/tbody/tr[' + str(i) +']/td[2]/div/a').text\n",
    "\n",
    "    full_name.append(name)\n",
    "    \n",
    "  return full_name"
   ]
  },
  {
   "cell_type": "code",
   "execution_count": 71,
   "metadata": {},
   "outputs": [],
   "source": [
    "# BeautifulSoup scrape for Name\n",
    "\n",
    "#def name(url):\n",
    "\n",
    "#    html = browser.html\n",
    "#    soup = BeautifulSoup(html, 'html.parser')\n",
    "    \n",
    "#    results = soup.find_all('tr', class_ = 'Table__TR Table__TR--sm Table__even')\n",
    "\n",
    "#    names = []\n",
    "\n",
    "#    for query in results:        \n",
    "\n",
    "#        try:        \n",
    "#            full_name = query.a.text    \n",
    "#            names.append(full_name)\n",
    "        \n",
    "#        except AttributeError as e:\n",
    "#            print(e)  \n",
    "    \n",
    "#    return names"
   ]
  },
  {
   "cell_type": "code",
   "execution_count": 321,
   "metadata": {},
   "outputs": [],
   "source": [
    "# Name column variables\n",
    "names_2021 = name(batting_url_list[0])\n",
    "names_2020 = name(batting_url_list[1])\n",
    "names_2019 = name(batting_url_list[2])"
   ]
  },
  {
   "cell_type": "code",
   "execution_count": 322,
   "metadata": {},
   "outputs": [],
   "source": [
    "# Function for scraping desired batting data\n",
    "\n",
    "def batting(url):\n",
    "    tables = pd.read_html(url)\n",
    "\n",
    "    t1 = tables[0]\n",
    "    t2 = tables[1]\n",
    "\n",
    "    batting_df = t1.join(t2)\n",
    "\n",
    "    clean_batting_df = batting_df.drop(['OBP','SLG','OPS','WAR'], axis= 1)\n",
    "\n",
    "    clean_batting_df.rename(columns = {'Name':'Names','GP':'Games Played', 'AB':'At Bats','R': 'Runs', 'H':'Hits', 'HR':'Home Runs',\n",
    "                                        'RBI':'Runs Batted In','TB':'Total Bases', 'BB':'Walks', 'K':'Strikeouts', 'SB':'Stolen Bases'}, inplace = True)\n",
    "\n",
    "    return clean_batting_df\n"
   ]
  },
  {
   "cell_type": "code",
   "execution_count": 323,
   "metadata": {},
   "outputs": [],
   "source": [
    "# $READY$\n",
    "\n",
    "# 2021 Batting Table\n",
    "batting_2021_df = batting(batting_url_list[0])\n",
    "\n",
    "# Insert new columns\n",
    "batting_2021_df.insert(1,'Name',names_2021)\n",
    "batting_2021_df.insert(2,'Team',abr_2021)\n",
    "\n",
    "# Drop Teams column\n",
    "batting_2021_df.drop(['Names'], axis=1, inplace=True)\n",
    "\n",
    "# Export DF to CSV\n",
    "batting_2021_df.to_csv('csvs/batting_2021.csv', index=False)"
   ]
  },
  {
   "cell_type": "code",
   "execution_count": 326,
   "metadata": {},
   "outputs": [],
   "source": [
    "# $READY$\n",
    "\n",
    "# 2020 Batting Table\n",
    "batting_2020_df = batting(batting_url_list[1])\n",
    "\n",
    "# Insert new columns\n",
    "batting_2020_df.insert(1,'Name',names_2020)\n",
    "batting_2020_df.insert(2,'Team',abr_2020)\n",
    "\n",
    "# Drop Teams column\n",
    "batting_2020_df.drop(['Names'], axis=1, inplace=True)\n",
    "\n",
    "# Export DF to CSV\n",
    "batting_2020_df.to_csv('csvs/batting_2020.csv', index=False)"
   ]
  },
  {
   "cell_type": "code",
   "execution_count": 210,
   "metadata": {},
   "outputs": [],
   "source": [
    "# $READY$\n",
    "\n",
    "# 2019 Batting Table\n",
    "batting_2019_df = batting(batting_url_list[2])\n",
    "\n",
    "# Insert new columns\n",
    "batting_2019_df.insert(1,'Name',names_2019)\n",
    "batting_2019_df.insert(2,'Team',abr_2019)\n",
    "\n",
    "# Drop Teams column\n",
    "batting_2019_df.drop(['Names'], axis=1, inplace=True)\n",
    "\n",
    "# Export DF to CSV\n",
    "batting_2019_df.to_csv('csvs/batting_2019.csv', index=False)"
   ]
  },
  {
   "cell_type": "code",
   "execution_count": 135,
   "metadata": {},
   "outputs": [],
   "source": [
    "# Attendance stats\n",
    "#\n",
    "#"
   ]
  },
  {
   "cell_type": "code",
   "execution_count": 327,
   "metadata": {},
   "outputs": [],
   "source": [
    "# Attendance URLs\n",
    "attendance_url_list = ['https://www.espn.com/mlb/attendance/_/year/2021',\n",
    "                            'https://www.espn.com/mlb/attendance/_/year/2019']"
   ]
  },
  {
   "cell_type": "code",
   "execution_count": 328,
   "metadata": {},
   "outputs": [],
   "source": [
    "# Function to return clean dataframes for attendance\n",
    "\n",
    "def attendance(url):\n",
    "    \n",
    "    tables = pd.read_html(url)\n",
    "\n",
    "    attendance_df = tables[0]\n",
    "\n",
    "    # Rename columns\n",
    "    attendance_df.rename(columns = {0 :'RK', 1 :'Teams', 2 :'Home Games', 3 :'Home Total', 4 :'Home Avg', 6 :'Road Games', 7 :'Road Avg',\n",
    "                                    9 :'Overall Games', 10 :'Overall Avg'}, inplace = True)\n",
    "    # Drop by Index\n",
    "    attendance_df.drop([0,1], inplace=True)\n",
    "\n",
    "    # Reset Index\n",
    "    attendance_df.reset_index(inplace=True)\n",
    "\n",
    "    # Drop by column\n",
    "    attendance_df.drop(['index',5, 8, 11], axis=1, inplace=True)\n",
    "\n",
    "    # Created list to replace Teams column\n",
    "    team = ['Arizona Diamondbacks', 'Atlanta Braves','Baltimore Orioles','Boston Red Sox','Chicago Cubs','Chicago White Sox',\n",
    "            'Cincinnati Reds','Cleveland Guardians','Colorado Rockies','Detroit Tigers','Houston Astros','Kansas City Royals',\n",
    "                'Los Angeles Angels','Los Angeles Dodgers','Miami Marlins','Milwaukee Brewers','Minnesota Twins','New York Mets',\n",
    "                    'New York Yankees','Oakland Athletics','Philadelphia Phillies','Pittsburgh Pirates','San Diego Padres','San Francisco Giants',\n",
    "                        'Seattle Mariners','St. Louis Cardinals','Tampa Bay Rays','Texas Rangers','Toronto Blue Jays','Washington Nationals']\n",
    "    abr = ['ARI','ATl','BAL','BOS','CHC','CWS','CIN','CLE','COL','DET','HOU','KC','LAA','LA','MIA','MIL','MIN','NYM','NYY','OAK','PHI','PIT','SD','SF',\n",
    "            'SEA','STL','TB','TEX','TOR','WAS']\n",
    "\n",
    "    # Place alphabetical\n",
    "    attendance_df.sort_values(by=['Teams'], inplace=True)\n",
    "\n",
    "    # Insert new columns\n",
    "    attendance_df.insert(1,'Team',team)\n",
    "    attendance_df.insert(2,'ABR',abr)\n",
    "\n",
    "    # Drop Teams column\n",
    "    attendance_df.drop(['Teams'], axis=1, inplace=True)\n",
    "\n",
    "    # Convert column RK to INT\n",
    "    complete_attendace_df = attendance_df.astype({\"RK\": int},  errors='raise') \n",
    "\n",
    "    # Resorts dataframe back to normal based on rank\n",
    "    complete_attendace_df.sort_values(by=['RK'], inplace=True)\n",
    "\n",
    "    # Convert necessary columns to INT\n",
    "    complete_attendace_df[['Home Total', 'Home Avg','Road Avg','Overall Avg']] = complete_attendace_df[['Home Total', 'Home Avg','Road Avg','Overall Avg']].astype(int)\n",
    "\n",
    "# Had to marker out the formatting due to conflict with exporting to csv\n",
    "#\n",
    "#    complete_attendace_df = complete_attendace_df.style.format({'Home Total':'{:,.0f}',\n",
    "#                                                    'Home Avg':'{:,.0f}',\n",
    "#                                                        'Road Avg':'{:,.0f}',\n",
    "#                                                            'Overall Avg':'{:,.0f}'})\n",
    "\n",
    "    return complete_attendace_df"
   ]
  },
  {
   "cell_type": "code",
   "execution_count": 329,
   "metadata": {},
   "outputs": [],
   "source": [
    "# COMPLETE ATTENDANCE CHARTS\n",
    "attendance_2021_df = attendance('https://www.espn.com/mlb/attendance/_/year/2021')\n",
    "attendance_2019_df = attendance('https://www.espn.com/mlb/attendance/_/year/2019')"
   ]
  },
  {
   "cell_type": "code",
   "execution_count": 220,
   "metadata": {},
   "outputs": [],
   "source": [
    "# Export DF to CSV Attendance\n",
    "attendance_2021_df.to_csv('csvs/attendance_2021.csv', index=False)\n",
    "attendance_2019_df.to_csv('csvs/attendance_2019.csv', index=False)"
   ]
  },
  {
   "cell_type": "code",
   "execution_count": 331,
   "metadata": {},
   "outputs": [],
   "source": [
    "browser.quit()"
   ]
  },
  {
   "cell_type": "code",
   "execution_count": null,
   "metadata": {},
   "outputs": [],
   "source": [
    "# Team Payroll\n",
    "#\n",
    "#"
   ]
  },
  {
   "cell_type": "code",
   "execution_count": 332,
   "metadata": {},
   "outputs": [],
   "source": [
    "# Payroll URL\n",
    "payroll_url = 'http://www.stevetheump.com/Payrolls.htm'"
   ]
  },
  {
   "cell_type": "code",
   "execution_count": 333,
   "metadata": {},
   "outputs": [],
   "source": [
    "# Payroll DFs for each year\n",
    "tables = pd.read_html(payroll_url)\n",
    "\n",
    "payroll_2021_df = tables[2]\n",
    "payroll_2020_df = tables[3]\n",
    "payroll_2019_df = tables[4]"
   ]
  },
  {
   "cell_type": "code",
   "execution_count": 334,
   "metadata": {},
   "outputs": [],
   "source": [
    "# Payroll 2021 clean up\n",
    "\n",
    "# Rename columns\n",
    "payroll_2021_df.rename(columns = {0 :'RK', 1 :'Team', 2 :'Roster', 3 :'Active', 4 :'Injured Reserve'}, inplace = True)\n",
    "\n",
    "# Drop by Index\n",
    "payroll_2021_df.drop([0,17], inplace=True)\n",
    "\n",
    "# Reset Index\n",
    "payroll_2021_df.reset_index(inplace=True)\n",
    "\n",
    "# Drop by column\n",
    "payroll_2021_df.drop(['index',5, 6, 7], axis=1, inplace=True)\n",
    "\n",
    "# Specified columns to change\n",
    "cols = ['Active','Injured Reserve']\n",
    "\n",
    "# Removed commas and $ signs from specified columns to convert to INT\n",
    "payroll_2021_df[cols] = payroll_2021_df[cols].replace({'\\$': '', ',': ''}, regex=True)\n",
    "\n",
    "# Replacing the - in columns with NaN values then replacing NaN values to 0\n",
    "payroll_2021_df = payroll_2021_df.replace('-',np.NaN)\n",
    "payroll_2021_df = payroll_2021_df.fillna(0)\n",
    "\n",
    "# Covert desired colums to INT tobe able to make 'Total' column\n",
    "payroll_2021_df[['Active', 'Injured Reserve']] = payroll_2021_df[['Active', 'Injured Reserve']].astype(int)\n",
    "\n",
    "# 'Active' + 'Injured Reserve' = 'Total'\n",
    "payroll_2021_df['Total'] = payroll_2021_df['Active'] + payroll_2021_df['Injured Reserve']\n",
    "\n",
    "\n",
    "# Format\n",
    "#payroll_2021_df = payroll_2021_df.style.format({'Active':'${:,.0f}',\n",
    "#                                                    'Injured Reserve':'${:,.0f}',\n",
    "#                                                        'Total':'${:,.0f}'})"
   ]
  },
  {
   "cell_type": "code",
   "execution_count": 228,
   "metadata": {},
   "outputs": [],
   "source": [
    "# Payroll 2021 DF export to CSV\n",
    "payroll_2021_df.to_csv('csvs/payroll_2021.csv', index=False)"
   ]
  },
  {
   "cell_type": "code",
   "execution_count": 336,
   "metadata": {},
   "outputs": [],
   "source": [
    "# Payroll 2020 clean up\n",
    "\n",
    "# Rename columns\n",
    "payroll_2020_df.rename(columns = {0 :'RK', 1 :'Team', 2 :'Roster', 3 :'Active', 4 :'Injured Reserve'}, inplace = True)\n",
    "\n",
    "# Drop by Index\n",
    "payroll_2020_df.drop([0,17], inplace=True)\n",
    "\n",
    "# Reset Index\n",
    "payroll_2020_df.reset_index(inplace=True)\n",
    "\n",
    "# Drop by column\n",
    "payroll_2020_df.drop(['index',5, 6], axis=1, inplace=True)\n",
    "\n",
    "# Specified columns to change\n",
    "cols = ['Active','Injured Reserve']\n",
    "\n",
    "# Removed commas and $ signs from specified columns to convert to INT\n",
    "payroll_2020_df[cols] = payroll_2020_df[cols].replace({'\\$': '', ',': ''}, regex=True)\n",
    "\n",
    "# Replacing the - in columns with NaN values then replacing NaN values to 0\n",
    "payroll_2020_df = payroll_2020_df.replace('-',np.NaN)\n",
    "payroll_2020_df = payroll_2020_df.fillna(0)\n",
    "\n",
    "# Covert desired colums to INT tobe able to make 'Total' column\n",
    "payroll_2020_df[['Active', 'Injured Reserve']] = payroll_2020_df[['Active', 'Injured Reserve']].astype(int)\n",
    "\n",
    "# 'Active' + 'Injured Reserve' = 'Total'\n",
    "payroll_2020_df['Total'] = payroll_2020_df['Active'] + payroll_2020_df['Injured Reserve']\n",
    "\n",
    "# Format\n",
    "#payroll_2020_df = payroll_2020_df.style.format({'Active':'${:,.0f}',\n",
    "#                                                    'Injured Reserve':'${:,.0f}',\n",
    "#                                                        'Total':'${:,.0f}'})"
   ]
  },
  {
   "cell_type": "code",
   "execution_count": 230,
   "metadata": {},
   "outputs": [],
   "source": [
    "# Payroll 2020 DF export to CSV\n",
    "payroll_2020_df.to_csv('csvs/payroll_2020.csv', index=False)"
   ]
  },
  {
   "cell_type": "code",
   "execution_count": 337,
   "metadata": {},
   "outputs": [],
   "source": [
    "# Payroll 2019 clean up\n",
    "\n",
    "# Rename columns\n",
    "payroll_2019_df.rename(columns = {0 :'RK', 1 :'Team', 2 :'Roster', 3 :'Active', 4 :'Injured Reserve'}, inplace = True)\n",
    "\n",
    "# Drop by Index\n",
    "payroll_2019_df.drop([0,14], inplace=True)\n",
    "\n",
    "# Reset Index\n",
    "payroll_2019_df.reset_index(inplace=True)\n",
    "\n",
    "# Drop by column\n",
    "payroll_2019_df.drop(['index'], axis=1, inplace=True)\n",
    "\n",
    "# Specified columns to change\n",
    "cols = ['Active','Injured Reserve']\n",
    "\n",
    "# Removed commas and $ signs from specified columns to convert to INT\n",
    "payroll_2019_df[cols] = payroll_2019_df[cols].replace({'\\$': '', ',': ''}, regex=True)\n",
    "\n",
    "# Replacing the - in columns with NaN values then replacing NaN values to 0\n",
    "payroll_2019_df = payroll_2019_df.replace('-',np.NaN)\n",
    "payroll_2019_df = payroll_2019_df.fillna(0)\n",
    "\n",
    "# Covert desired colums to INT tobe able to make 'Total' column\n",
    "payroll_2019_df[['Active', 'Injured Reserve']] = payroll_2019_df[['Active', 'Injured Reserve']].astype(int)\n",
    "\n",
    "# 'Active' + 'Injured Reserve' = 'Total'\n",
    "payroll_2019_df['Total'] = payroll_2019_df['Active'] + payroll_2019_df['Injured Reserve']\n",
    "\n",
    "# Format\n",
    "#payroll_2019_df = payroll_2019_df.style.format({'Active':'${:,.0f}',\n",
    "#                                                    'Injured Reserve':'${:,.0f}',\n",
    "#                                                        'Total':'${:,.0f}'})"
   ]
  },
  {
   "cell_type": "code",
   "execution_count": 232,
   "metadata": {},
   "outputs": [],
   "source": [
    "# Payroll 2021 DF export to CSV\n",
    "payroll_2019_df.to_csv('csvs/payroll_2019.csv', index=False)"
   ]
  }
 ],
 "metadata": {
  "kernelspec": {
   "display_name": "Python 3.9.7 ('base')",
   "language": "python",
   "name": "python3"
  },
  "language_info": {
   "codemirror_mode": {
    "name": "ipython",
    "version": 3
   },
   "file_extension": ".py",
   "mimetype": "text/x-python",
   "name": "python",
   "nbconvert_exporter": "python",
   "pygments_lexer": "ipython3",
   "version": "3.9.7"
  },
  "orig_nbformat": 4,
  "vscode": {
   "interpreter": {
    "hash": "6e18270aece4886438592095eb7c4077958764c12b3c7681de976e15e7101ea7"
   }
  }
 },
 "nbformat": 4,
 "nbformat_minor": 2
}
